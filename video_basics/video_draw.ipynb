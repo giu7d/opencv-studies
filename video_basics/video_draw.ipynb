{
 "nbformat": 4,
 "nbformat_minor": 2,
 "metadata": {
  "language_info": {
   "name": "python",
   "codemirror_mode": {
    "name": "ipython",
    "version": 3
   },
   "version": "3.7.6-final"
  },
  "orig_nbformat": 2,
  "file_extension": ".py",
  "mimetype": "text/x-python",
  "name": "python",
  "npconvert_exporter": "python",
  "pygments_lexer": "ipython3",
  "version": 3,
  "kernelspec": {
   "name": "python37664bitcvcondaa67d49e689a14825b5d394f16de9c243",
   "display_name": "Python 3.7.6 64-bit ('cv': conda)"
  }
 },
 "cells": [
  {
   "cell_type": "markdown",
   "metadata": {},
   "source": [
    "# Drawing on Video"
   ]
  },
  {
   "cell_type": "code",
   "execution_count": 4,
   "metadata": {},
   "outputs": [],
   "source": [
    "import cv2 as cv\n",
    "import time"
   ]
  },
  {
   "cell_type": "markdown",
   "metadata": {},
   "source": [
    "## Static Drawing"
   ]
  },
  {
   "cell_type": "code",
   "execution_count": 5,
   "metadata": {},
   "outputs": [],
   "source": [
    "capture = cv.VideoCapture('video-output.mp4')\n",
    "\n",
    "height = int(capture.get(cv.CAP_PROP_FRAME_HEIGHT))\n",
    "width = int(capture.get(cv.CAP_PROP_FRAME_WIDTH))\n",
    "\n",
    "x = width // 2\n",
    "y = height // 2\n",
    "\n",
    "w = width // 4\n",
    "h = height // 4\n",
    "\n",
    "if capture.isOpened() == False:\n",
    "    print('Error File Not Found - or - Wrong Codec')\n",
    "\n",
    "while capture.isOpened():\n",
    "    ret, frame = capture.read()\n",
    "    \n",
    "    if ret == True:\n",
    "        FRAME_RATE = 20\n",
    "        time.sleep(1/FRAME_RATE) \n",
    "        \n",
    "        cv.rectangle(frame, (x,y), (x+w,y+h), color=(0,0,255), thickness=4)\n",
    "        \n",
    "        cv.imshow('video', frame)     \n",
    "        #   Press ESC\n",
    "        if cv.waitKey(1) & 0xff == 27:\n",
    "            break\n",
    "    else:\n",
    "        break\n",
    "\n",
    "capture.release()\n",
    "cv.destroyAllWindows()"
   ]
  },
  {
   "cell_type": "code",
   "execution_count": null,
   "metadata": {},
   "outputs": [],
   "source": []
  }
 ]
}