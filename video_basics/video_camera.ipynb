{
 "nbformat": 4,
 "nbformat_minor": 2,
 "metadata": {
  "language_info": {
   "name": "python",
   "codemirror_mode": {
    "name": "ipython",
    "version": 3
   },
   "version": "3.7.6-final"
  },
  "orig_nbformat": 2,
  "file_extension": ".py",
  "mimetype": "text/x-python",
  "name": "python",
  "npconvert_exporter": "python",
  "pygments_lexer": "ipython3",
  "version": 3,
  "kernelspec": {
   "name": "python37664bitcvcondaa67d49e689a14825b5d394f16de9c243",
   "display_name": "Python 3.7.6 64-bit ('cv': conda)"
  }
 },
 "cells": [
  {
   "cell_type": "markdown",
   "execution_count": null,
   "metadata": {},
   "outputs": [],
   "source": [
    "# Connecting to the Camera\n",
    "\n",
    "__Important:__ When working with video in jupyter remember to close all unused kernels, it may lead to bugs\n"
   ]
  },
  {
   "cell_type": "code",
   "execution_count": 13,
   "metadata": {},
   "outputs": [],
   "source": [
    "import cv2 as cv"
   ]
  },
  {
   "cell_type": "markdown",
   "metadata": {},
   "source": [
    "## Capturing & Writting "
   ]
  },
  {
   "cell_type": "markdown",
   "metadata": {},
   "source": [
    "### Codec\n",
    "__Linux and Mac:__ XVID\n",
    "__Windows:__ DIVX\n"
   ]
  },
  {
   "cell_type": "code",
   "execution_count": 23,
   "metadata": {},
   "outputs": [],
   "source": [
    "capture = cv.VideoCapture(0)\n",
    "\n",
    "height = int(capture.get(cv.CAP_PROP_FRAME_HEIGHT))\n",
    "width = int(capture.get(cv.CAP_PROP_FRAME_WIDTH))\n",
    "\n",
    "writer = cv.VideoWriter('video-output.avi', cv.VideoWriter_fourcc('M','J','P','G'), 10.0, (width, height))\n",
    "\n",
    "while True:\n",
    "    ret, frame = capture.read()\n",
    "    gray_frame = cv.cvtColor(frame, cv.COLOR_BGR2GRAY)\n",
    "\n",
    "    writer.write(gray_frame)\n",
    "    cv.imshow('webcam', gray_frame)\n",
    "    #   Press ESC\n",
    "    if cv.waitKey(1) & 0xff == 27:\n",
    "        break\n",
    "\n",
    "capture.release()\n",
    "writer.release()\n",
    "cv.destroyAllWindows()"
   ]
  },
  {
   "cell_type": "code",
   "execution_count": null,
   "metadata": {},
   "outputs": [],
   "source": []
  }
 ]
}