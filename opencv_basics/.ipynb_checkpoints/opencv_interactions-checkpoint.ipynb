{
 "cells": [
  {
   "cell_type": "markdown",
   "metadata": {},
   "source": [
    "# OpenCV Interactions"
   ]
  },
  {
   "cell_type": "code",
   "execution_count": 1,
   "metadata": {},
   "outputs": [],
   "source": [
    "import cv2 as cv\n",
    "import numpy as np"
   ]
  },
  {
   "cell_type": "code",
   "execution_count": 4,
   "metadata": {},
   "outputs": [],
   "source": [
    "window_name = 'draw_window'\n",
    "img = np.zeros((512, 512, 3), np.int8)\n",
    "\n",
    "##############\n",
    "#  FUNCTIONS #\n",
    "##############\n",
    "\n",
    "def draw_circle(event, x, y, flags, param):\n",
    "    if event == cv.EVENT_LBUTTONDOWN:\n",
    "        cv.circle(img, (x,y), radius=100, color=(255,0,0), thickness=-1)\n",
    "    elif event == cv.EVENT_RBUTTONDOWN:\n",
    "        cv.circle(img, (x,y), radius=50, color=(0,255,0), thickness=5)\n",
    "    \n",
    "cv.namedWindow(winname=window_name)\n",
    "cv.setMouseCallback(window_name, draw_circle)\n",
    "\n",
    "##############\n",
    "# SHOW IMAGE #\n",
    "##############\n",
    "\n",
    "\n",
    "while True:\n",
    "    cv.imshow(window_name, img)    \n",
    "    if cv.waitKey(20) & 0xFF == 27:\n",
    "        break\n",
    "\n",
    "cv.destroyAllWindows()"
   ]
  }
 ],
 "metadata": {
  "kernelspec": {
   "display_name": "Python 3",
   "language": "python",
   "name": "python3"
  },
  "language_info": {
   "codemirror_mode": {
    "name": "ipython",
    "version": 3
   },
   "file_extension": ".py",
   "mimetype": "text/x-python",
   "name": "python",
   "nbconvert_exporter": "python",
   "pygments_lexer": "ipython3",
   "version": "3.7.6"
  }
 },
 "nbformat": 4,
 "nbformat_minor": 4
}
