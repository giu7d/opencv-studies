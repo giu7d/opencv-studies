{
 "cells": [
  {
   "cell_type": "markdown",
   "metadata": {},
   "source": [
    "# OpenCV Drag 'n Draw"
   ]
  },
  {
   "cell_type": "code",
   "execution_count": 5,
   "metadata": {},
   "outputs": [],
   "source": [
    "import cv2 as cv\n",
    "import numpy as np\n",
    "\n",
    "img = np.zeros((512,512,3))\n",
    "window_name = 'drag_draw'\n",
    "\n",
    "is_drawing = False\n",
    "ix = -1\n",
    "iy = -1\n",
    "\n",
    "def draw_rectangle(event, x, y, flags, params):\n",
    "    global ix, iy, is_drawing\n",
    "    \n",
    "    if event == cv.EVENT_LBUTTONDOWN:\n",
    "        is_drawing = True\n",
    "        ix,iy = x,y\n",
    "    \n",
    "    elif event == cv.EVENT_MOUSEMOVE:\n",
    "        if is_drawing == True:\n",
    "            cv.rectangle(img, (ix,iy), (x,y), (0,255,0), -1)\n",
    "        \n",
    "    elif event == cv.EVENT_LBUTTONUP:\n",
    "        is_drawing = False\n",
    "        cv.rectangle(img, (ix,iy), (x,y), (0,255,0), -1)\n",
    "        \n",
    "\n",
    "\n",
    "\n",
    "# \n",
    "# Settup Interactions\n",
    "#  \n",
    "cv.namedWindow(winname=window_name)\n",
    "cv.setMouseCallback(window_name, draw_rectangle)\n",
    "\n",
    "\n",
    "# \n",
    "# Open Window\n",
    "# \n",
    "while True:\n",
    "    cv.imshow(window_name, img)    \n",
    "    if cv.waitKey(20) & 0xFF == 27:\n",
    "        break\n",
    "\n",
    "cv.destroyAllWindows()"
   ]
  }
 ],
 "metadata": {
  "kernelspec": {
   "display_name": "Python 3",
   "language": "python",
   "name": "python3"
  },
  "language_info": {
   "codemirror_mode": {
    "name": "ipython",
    "version": 3
   },
   "file_extension": ".py",
   "mimetype": "text/x-python",
   "name": "python",
   "nbconvert_exporter": "python",
   "pygments_lexer": "ipython3",
   "version": "3.7.6"
  }
 },
 "nbformat": 4,
 "nbformat_minor": 4
}
