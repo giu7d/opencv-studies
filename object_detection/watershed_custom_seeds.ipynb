{
 "nbformat": 4,
 "nbformat_minor": 2,
 "metadata": {
  "language_info": {
   "name": "python",
   "codemirror_mode": {
    "name": "ipython",
    "version": 3
   },
   "version": "3.7.6-final"
  },
  "orig_nbformat": 2,
  "file_extension": ".py",
  "mimetype": "text/x-python",
  "name": "python",
  "npconvert_exporter": "python",
  "pygments_lexer": "ipython3",
  "version": 3,
  "kernelspec": {
   "name": "python37664bitcvvirtualenvc4e8274fc0714e38babe7b6063c3f27b",
   "display_name": "Python 3.7.6 64-bit ('cv': virtualenv)"
  }
 },
 "cells": [
  {
   "cell_type": "code",
   "execution_count": 2,
   "metadata": {},
   "outputs": [],
   "source": [
    "import cv2 as cv\n",
    "import numpy as np\n",
    "import matplotlib.pyplot as plt\n",
    "%matplotlib inline"
   ]
  },
  {
   "cell_type": "code",
   "execution_count": 3,
   "metadata": {},
   "outputs": [],
   "source": [
    "road_img = cv.imread(\"../assets/road_image.jpg\")\n",
    "road_img_copy = road_img.copy()"
   ]
  },
  {
   "cell_type": "code",
   "execution_count": 4,
   "metadata": {},
   "outputs": [],
   "source": [
    "marker_img = np.zeros(road_img.shape[:2], dtype=np.int32)\n",
    "segments = np.zeros(road_img.shape, dtype=np.uint8)"
   ]
  },
  {
   "cell_type": "code",
   "execution_count": 5,
   "metadata": {},
   "outputs": [],
   "source": [
    "from matplotlib import cm"
   ]
  },
  {
   "cell_type": "code",
   "execution_count": 6,
   "metadata": {},
   "outputs": [],
   "source": [
    "def create_rgb(i):\n",
    "    return tuple(np.array(cm.tab10(i)[:3]) * 255)"
   ]
  },
  {
   "cell_type": "code",
   "execution_count": 7,
   "metadata": {},
   "outputs": [
    {
     "data": {
      "text/plain": "[(31.0, 119.0, 180.0),\n (255.0, 127.0, 14.0),\n (44.0, 160.0, 44.0),\n (214.0, 39.0, 40.0),\n (148.0, 103.0, 189.0),\n (140.0, 86.0, 75.0),\n (227.0, 119.0, 194.0),\n (127.0, 127.0, 127.0),\n (188.0, 189.0, 34.0),\n (23.0, 190.0, 207.0)]"
     },
     "execution_count": 7,
     "metadata": {},
     "output_type": "execute_result"
    }
   ],
   "source": [
    "colors = []\n",
    "for i in range(10):\n",
    "    colors.append(create_rgb(i))\n",
    "colors"
   ]
  },
  {
   "cell_type": "code",
   "execution_count": 8,
   "metadata": {},
   "outputs": [],
   "source": [
    "# GLOBAL VARIABLES\n",
    "current_marker = 1\n",
    "marks_updated = False\n",
    "n_markers = 10 #0-9"
   ]
  },
  {
   "cell_type": "code",
   "execution_count": 9,
   "metadata": {},
   "outputs": [],
   "source": [
    "# CALLBACKS\n",
    "def mouse_callback(event, x, y, flags, param):\n",
    "    global marks_updated\n",
    "\n",
    "    if event == cv.EVENT_LBUTTONDOWN:\n",
    "        # Markers passed\n",
    "        cv.circle(marker_img, (x,y), 10, (current_marker), -1)\n",
    "        # User sees\n",
    "        cv.circle(road_img_copy, (x,y), 10, colors[(current_marker)], -1)\n",
    "\n",
    "        marks_updated = True"
   ]
  },
  {
   "cell_type": "code",
   "execution_count": 10,
   "metadata": {},
   "outputs": [],
   "source": [
    "# WHILE TRUE\n",
    "\n",
    "cv.namedWindow('road')\n",
    "cv.setMouseCallback('road', mouse_callback)\n",
    "\n",
    "while True:\n",
    "    cv.imshow('Watershed', segments)\n",
    "    cv.imshow('road', road_img_copy)\n",
    "\n",
    "    # Close Windows\n",
    "    k = cv.waitKey(1)\n",
    "    if k == 27:\n",
    "        break\n",
    "\n",
    "    # Clearing all the colors\n",
    "    elif k == ord('c'):\n",
    "        road_img_copy = road_img.copy()\n",
    "        marker_img = np.zeros(road_img.shape[:2], dtype=np.int32)\n",
    "        segments = np.zeros(road_img.shape, dtype=np.uint8)\n",
    "\n",
    "    # Update color choice\n",
    "    elif k > 0 and chr(k).isdigit():\n",
    "        current_marker = int(chr(k))\n",
    "\n",
    "    # Update Markers\n",
    "    if marks_updated:\n",
    "        marker_img_copy = marker_img.copy()\n",
    "        cv.watershed(road_img, marker_img_copy)\n",
    "        segments = np.zeros(road_img.shape, dtype=np.uint8)\n",
    "\n",
    "        for color_index in range(n_markers):\n",
    "            # Coloring segments\n",
    "            segments[marker_img_copy==color_index] = colors[color_index]\n",
    "\n",
    "\n",
    "cv.destroyAllWindows()"
   ]
  },
  {
   "cell_type": "code",
   "execution_count": null,
   "metadata": {},
   "outputs": [],
   "source": []
  }
 ]
}